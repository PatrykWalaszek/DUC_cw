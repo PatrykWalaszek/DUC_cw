{
  "nbformat": 4,
  "nbformat_minor": 0,
  "metadata": {
    "colab": {
      "name": "zaliczenie_cw.ipynb",
      "provenance": [],
      "collapsed_sections": [],
      "authorship_tag": "ABX9TyNW4IB5hQYLmylZznuFc7BA",
      "include_colab_link": true
    },
    "kernelspec": {
      "name": "python3",
      "display_name": "Python 3"
    },
    "language_info": {
      "name": "python"
    }
  },
  "cells": [
    {
      "cell_type": "markdown",
      "metadata": {
        "id": "view-in-github",
        "colab_type": "text"
      },
      "source": [
        "<a href=\"https://colab.research.google.com/github/PatrykWalaszek/DUC_cw/blob/master/zaliczenie_cw.ipynb\" target=\"_parent\"><img src=\"https://colab.research.google.com/assets/colab-badge.svg\" alt=\"Open In Colab\"/></a>"
      ]
    },
    {
      "cell_type": "code",
      "metadata": {
        "id": "NMd5kWwHTGma"
      },
      "source": [
        "import math"
      ],
      "execution_count": 12,
      "outputs": []
    },
    {
      "cell_type": "markdown",
      "metadata": {
        "id": "FFiMx1uZQS4x"
      },
      "source": [
        "Zadania z cwiczen DUC 2021 (online)"
      ]
    },
    {
      "cell_type": "markdown",
      "metadata": {
        "id": "jaP1QYJ3QaEF"
      },
      "source": [
        "**Z1**- Obliczanie prawdopodobieństwa wprowadzenia do użytkowania niezdatnego UC\n",
        "Oblicz prawdopodobieństwo Pn, że wyprodukowane urządzenie, złożone z **N=200** sztuk układów cyfrowych (o identycznych parametrach niezawodnościowych) będzie niezdatne, jeżeli uzysk podczas produkcji wynosi **90%**  ,a testy produkcyjne wykrywają **95% błędów**. Do obliczeń przyjąć **lambda**=4."
      ]
    },
    {
      "cell_type": "markdown",
      "metadata": {
        "id": "7ITuf_ofR4VR"
      },
      "source": [
        "![1.png](data:image/png;base64,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)"
      ]
    },
    {
      "cell_type": "markdown",
      "metadata": {
        "id": "SEg1iDhvSN48"
      },
      "source": [
        "**Dane:**"
      ]
    },
    {
      "cell_type": "code",
      "metadata": {
        "id": "pYJR1cUGO2ag",
        "colab": {
          "base_uri": "https://localhost:8080/"
        },
        "outputId": "fa7340d2-5a7f-46a3-86b1-a3a7f935862a"
      },
      "source": [
        "U=0.90;\n",
        "p=0.95;\n",
        "l = 4;\n",
        "N=200;\n",
        "P=((1-p)*(1-U)*math.exp((l-1)*(-p)))/(U+ (1-p)*(1-U)*math.exp((l-1)*(-p)));\n",
        "PN=1-((1-P)**N)\n",
        "\n",
        "print(\"P= \"+\"{:.4e}\".format(P))\n",
        "print(\"P\"+str(N)+\"= \"+\"{:.4}\".format(PN*100)+\"%\")"
      ],
      "execution_count": 39,
      "outputs": [
        {
          "output_type": "stream",
          "text": [
            "P= 3.2125e-04\n",
            "P200= 6.224%\n"
          ],
          "name": "stdout"
        }
      ]
    },
    {
      "cell_type": "markdown",
      "metadata": {
        "id": "-gd4hNXvXsEr"
      },
      "source": [
        "**Z2** Liczność i czas trwania testów wyczerpujących;\n",
        "Oblicz czas trwania wyczerpującej sekwencji testującej dla układu:\n",
        "\n",
        "A.\tkombinacyjnego  **NK=14**-wejsciowego \n",
        "\n",
        "B.\tsekwencyjnego **NS=12**-wejściowego z **MS=14** przerzutnikami.\n",
        "\n",
        "Do obliczeń przyjąć czas wykonania pojedynczego wektora testującego **TP=0,5us**.\n"
      ]
    },
    {
      "cell_type": "markdown",
      "metadata": {
        "id": "XZjHzpqLYmi4"
      },
      "source": [
        "Dane:"
      ]
    },
    {
      "cell_type": "code",
      "metadata": {
        "colab": {
          "base_uri": "https://localhost:8080/"
        },
        "id": "b6hzJ_jqYPzb",
        "outputId": "a53f2dc2-2b49-4946-b2ee-6f9419dc7923"
      },
      "source": [
        "Tp=0.5;\n",
        "NK=14;\n",
        "NS=12;\n",
        "MS=14;\n",
        "LK=2**NK;\n",
        "print(\"dla układu kombinacyjnego 2^N\")\n",
        "print(\"LK=\"+str(LK))\n",
        "TK=Tp*LK;\n",
        "print(\"TK=\"+str(TK)+\"us=\"+str(TK*10**-3)+\"ms\")\n",
        "\n",
        "print(\"dla układu sekwencyjnego 2^(N+M)\")\n",
        "LS=2**(NS+MS);\n",
        "print(\"LS=\"+str(LS))\n",
        "TS=Tp*LS;\n",
        "print(\"TS=\"+str(TS)+\"us=\"+str(TS*10**-3)+\"ms=\"+\"{:.4}\".format(TS*10**-6)+\"s\")"
      ],
      "execution_count": 58,
      "outputs": [
        {
          "output_type": "stream",
          "text": [
            "dla układu kombinacyjnego 2^N\n",
            "LK=16384\n",
            "TK=8192.0us=8.192ms\n",
            "dla układu sekwencyjnego 2^(N+M)\n",
            "LS=67108864\n",
            "TS=33554432.0us=33554.432ms=33.55s\n"
          ],
          "name": "stdout"
        }
      ]
    },
    {
      "cell_type": "markdown",
      "metadata": {
        "id": "Hc9QRY0dbNZe"
      },
      "source": [
        "**Z3**"
      ]
    },
    {
      "cell_type": "markdown",
      "metadata": {
        "id": "J1lnaNnTbJvK"
      },
      "source": [
        "![obraz.png](data:image/png;base64,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)"
      ]
    },
    {
      "cell_type": "code",
      "metadata": {
        "colab": {
          "base_uri": "https://localhost:8080/"
        },
        "id": "ZQW2i3BHYQ11",
        "outputId": "990e974e-82d7-4fc8-bcb2-a8644b60aceb"
      },
      "source": [
        "#tg – czas testowania sekwencją gruntowną\n",
        "#td – czas testowania sekwencją deterministyczną \n",
        "#n=ilość wejsc\n",
        "#d=ilosc wszystkich linni(wejscia+bramki)\n",
        "tp=0.5;\n",
        "n=6\n",
        "d=11\n",
        "Lg=2**n\n",
        "Ld=2*d\n",
        "tg = Lg*tp\n",
        "td=Ld*tp\n",
        "\n",
        "k=(tg-td)/tg*100\n",
        "print(\"tg=\"+str(tg)+\"s\")\n",
        "print(\"td=\"+str(td)+\"s\")\n",
        "print(\"Lg=\"+str(Lg))\n",
        "print(\"Ld=\"+str(Ld))\n",
        "print(\"k%={:.3}\".format(k)+\"%\")"
      ],
      "execution_count": 77,
      "outputs": [
        {
          "output_type": "stream",
          "text": [
            "tg=32.0s\n",
            "td=11.0s\n",
            "Lg=64\n",
            "Ld=22\n",
            "k%=65.6%\n"
          ],
          "name": "stdout"
        }
      ]
    },
    {
      "cell_type": "code",
      "metadata": {
        "id": "gqIlljORdP69"
      },
      "source": [
        ""
      ],
      "execution_count": null,
      "outputs": []
    }
  ]
}